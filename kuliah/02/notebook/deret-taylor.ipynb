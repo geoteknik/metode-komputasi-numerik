{
 "cells": [
  {
   "cell_type": "code",
   "execution_count": 2,
   "metadata": {},
   "outputs": [],
   "source": [
    "import matplotlib.pyplot as plt\n",
    "import numpy as np\n",
    "import math\n"
   ]
  },
  {
   "attachments": {},
   "cell_type": "markdown",
   "metadata": {},
   "source": [
    "$$ f(x) = x^3+2x^2-x + 10 $$"
   ]
  },
  {
   "cell_type": "code",
   "execution_count": 23,
   "metadata": {},
   "outputs": [
    {
     "name": "stdout",
     "output_type": "stream",
     "text": [
      "16\n"
     ]
    },
    {
     "data": {
      "image/png": "[encoded data removed]",
      "text/plain": [
       "<Figure size 432x288 with 1 Axes>"
      ]
     },
     "metadata": {
      "needs_background": "light"
     },
     "output_type": "display_data"
    }
   ],
   "source": [
    "x = np.linspace(0, 10, 101)\n",
    "y = -0.2*x**2 + 2*x\n",
    "\n",
    "fig, ax = plt.subplots()\n",
    "ax.plot(x, y)\n",
    "\n",
    "dx = 2\n",
    "# Orde ke - nol\n",
    "x0 = 2\n",
    "y0 =  2*x0**2 - x0 + 10\n",
    "print(y0)\n",
    "\n",
    "g0 = [y0 for i in x]\n",
    "# ax.plot(x, g0)\n",
    "\n",
    "# orde ke - 1\n",
    "# y1 = (4*x0 - 1)\n",
    "\n",
    "g1 = y0 + y1 * (x - x0)\n",
    "# ax.plot(x, g1)\n",
    "\n",
    "# orde-2\n",
    "y2 = 4\n",
    "g2 = y0 + y1 * (x - x0) + y2 * (x - x0)**2/2\n",
    "# ax.plot(x, g2)\n",
    "# print(g0)\n",
    "\n"
   ]
  },
  {
   "cell_type": "code",
   "execution_count": 24,
   "metadata": {},
   "outputs": [
    {
     "name": "stdout",
     "output_type": "stream",
     "text": [
      "1.8\n"
     ]
    }
   ],
   "source": [
    "y1 = -0.2*1**2 + 2*1\n",
    "\n",
    "print(y1)"
   ]
  },
  {
   "cell_type": "code",
   "execution_count": 25,
   "metadata": {},
   "outputs": [
    {
     "name": "stdout",
     "output_type": "stream",
     "text": [
      "1.6\n"
     ]
    }
   ],
   "source": [
    "y1 = -0.4*1+2\n",
    "y2 = -0.4\n",
    "print(y1)\n",
    "\n"
   ]
  },
  {
   "attachments": {},
   "cell_type": "markdown",
   "metadata": {},
   "source": [
    "# Deret Taylor\n",
    "## Pengenalan\n",
    "Deret Taylor adalah suatu cara untuk mengekspresikan fungsi matematika sebagai jumlah deret tak berhingga dari suku-suku yang ditentukan berdasarkan turunan fungsi tersebut di suatu titik. Misalkan kita ingin mengestimasi fungsi eksponensial $f(x) = e^x$ di sekitar titik $x=x_0$. Kita perlu menentukan turunan ke-n dari fungsi tersebut dan mengevaluasinya pada titik $x_0$. Deret Taylor sangat berguna dalam matematika dan banyak digunakan dalam bidang sains dan rekayasa. Deret Taylor pertama kali diperkenalkan oleh matematikawan Inggris, Brook Taylor, pada abad ke-18.\n",
    "\n",
    "Deret Taylor terdiri dari dua jenis, yakni Deret Taylor dan Deret McLaurin. Deret Taylor adalah deret yang digunakan untuk mengekspresikan fungsi pada titik tertentu yang tidak harus nol. Sedangkan Deret McLaurin adalah kasus khusus dari Deret Taylor, di mana titik yang digunakan adalah nol. Dalam artikel ini, kita akan membahas Deret Taylor secara umum.\n",
    "\n",
    "## Bentuk Umum\n",
    "Bentuk umum dari Deret Taylor adalah sebagai berikut:\n",
    "\n",
    "$$f\\left(x+\\varDelta x\\right)=f\\left(x\\right)+\\dfrac{\\varDelta x}{1!}f'\\left(x\\right)+\\dfrac{\\varDelta x^{2}}{2!}f''\\left(x\\right)+\\cdots+\\dfrac{\\varDelta x^{n}}{n!}f^{\\left(n\\right)}\\left(x\\right)+\\cdots \\tag{1a}$$\n",
    "\n",
    "atau \n",
    "\n",
    "$$ f(x+\\Delta x) = \\sum^{\\infty}_{n=0} {f^{(n)}(x)\\over n!} (\\Delta x)^n \\tag{1b}$$  \n",
    " \n",
    "di mana $f^{(n)}(x)$ adalah turunan ke-$n$ dari fungsi $f(x)$ yang dievaluasi pada titik $x$. Dalam kata lain, persamaan di atas dapat digunakan untuk mengekspresikan nilai dari fungsi $f(x)$ di sekitar titik $x$ sebagai jumlah tak berhingga dari suku-suku deret, dengan setiap suku didasarkan pada nilai turunan fungsi tersebut di titik $x$.\n",
    "\n"
   ]
  },
  {
   "attachments": {},
   "cell_type": "markdown",
   "metadata": {},
   "source": [
    "## Contoh\n",
    "Mari kita lihat contoh penggunaan Deret Taylor. Misalnya kita ingin mengestimasi kecepatan suatu sungai. Seandainya kecepatan sebuah sungai memenuhi persamaan: \n",
    "\n",
    "$$ f(x) = -0.2 x^2+2x \\tag{2} $$ \n",
    "\n",
    "Lalu kita mengukur kecepatan di titik $x = 1$. Dari Persamaan 2, didapatkan f(1) = 1.8 m/s. Seandainya data yang kita punya hanya kecepatan di titik $ x = 1 $ dan Persamaan 2, dan kita ingin mengestimasi kecepatan pada x = 2, kita bisa menggunakan deret Taylor untuk mengestimasinya.\n"
   ]
  },
  {
   "cell_type": "code",
   "execution_count": 29,
   "metadata": {
    "tags": [
     "remove-cell"
    ]
   },
   "outputs": [
    {
     "name": "stdout",
     "output_type": "stream",
     "text": [
      "3.2\n",
      "3.2\n"
     ]
    }
   ],
   "source": [
    "x0 = 1 # titik pengamatan\n",
    "Dx = 1\n",
    "fx0 = -0.2*x0**2 + 2 * x0 # f(x0)\n",
    "f1x0 = -0.4*x0 + 2 # f'(x0)\n",
    "f2x0 = -0.4 #f''(x0)\n",
    "\n",
    "fx1 = fx0 + f1x0*Dx + f2x0*Dx**2/2\n",
    "fe = -0.2*(x0+Dx)**2 + 2 * (x0+Dx) #eksak\n",
    "print(fx1)\n",
    "print(fe)"
   ]
  },
  {
   "attachments": {},
   "cell_type": "markdown",
   "metadata": {},
   "source": [
    "\n",
    "Dengan $ x = 1, \\Delta x = 1, f(1) = 1.8, f'(1) = 1.6, f\"(1) = -0.4, f^{(3)} = 0 $, karena setelah turunan ke-3, nilai turunannya adalah nol, maka kita hentikan penurunannya. Dari Persamaan (1) kita dapatkan:\n",
    "\n",
    "$$ f(1 + 1) = f(2) = f(1) + f'(1) \\Delta x + {f''(1) \\Delta x^2 \\over 2 !} = 3.2$$\n",
    "\n",
    "Dari hasil estimasi kecepatan pada titik $ x = 2 $, hasil dari deret Taylor sama dengan hasil nilai eksak, yaitu 3.2 m/s.\n"
   ]
  },
  {
   "attachments": {},
   "cell_type": "markdown",
   "metadata": {},
   "source": [
    "## Orde Deret Taylor\n",
    "\n",
    "Jika kita hanya menggunakan suku pertama pada Persamaan 1, maka deret Taylor yang kita gunakan adalah deret Taylor orde 0, dan Persamaan 1 menjadi:\n",
    "\n",
    "$$ f(x + \\Delta x) = f(x) + R_0 \\tag{3}$$\n",
    "\n",
    "dengan:\n",
    "$$ R_0 = O(\\Delta x) = \\dfrac{\\varDelta x}{1!}f'\\left(x\\right)+\\dfrac{\\varDelta x^{2}}{2!}f''\\left(x\\right)+\\cdots+\\dfrac{\\varDelta x^{n}}{n!}f^{\\left(n\\right)}\\left(x\\right)+\\cdots \\tag{4}$$\n",
    "\n",
    "$ R_0 = O(\\Delta x) $ adalah galat pemotongan (*truncating error*) yang berorde 1. Jika kita melanjutkan deret Taylor hingga suku ke-2, maka orde deret taylor tersebut adalah 1 dengan persamaan:\n",
    "\n",
    "$$ f(x + \\Delta x) = f(x) + \\dfrac{\\varDelta x}{1!}f'\\left(x\\right) + R_1 \\tag{4}$$\n",
    "\n",
    "dengan $ R_1 = O(\\Delta x^2) $ adalah galat pemotongan yang berorde 2. Dan seterusnya.\n"
   ]
  },
  {
   "attachments": {},
   "cell_type": "markdown",
   "metadata": {},
   "source": [
    "## Orde Deret Taylor\n",
    "\n",
    "$$ f(x) = e^x , f^{(n)}(x) = e^x $$\n",
    " \n",
    "Maka, kita dapat mengevaluasi turunan ini pada titik $x=0$:\n",
    "\n",
    "$$ f(0) = e^0 = 1 , f^{(n)}(0) = e^0 = 1 $$ \n",
    "\n",
    "Dengan demikian, kita dapat mengganti nilai $f^{(n)}(x)$ dalam persamaan Deret Taylor dengan 1 dan memperoleh bentuk umum sebagai berikut:\n",
    "\n",
    "$$ e^x = \\sum^{\\infty}_{n=0} {1\\over n!} x^n $$\n",
    " \n",
    "Dalam hal ini, kita telah berhasil mengekspresikan fungsi eksponensial sebagai jumlah deret tak berhingga dari suku-suku yang ditentukan berdasarkan turunan fungsi tersebut pada titik $x=0$.\n",
    "\n",
    "\n",
    "Dari contoh tersebut kita bisa mengetahui bahwa deret Taylor adalah suatu cara untuk mengekspresikan fungsi matematika sebagai jumlah deret tak berhingga dari suku-suku yang ditentukan berdasarkan turunan fungsi tersebut pada suatu titik."
   ]
  }
 ],
 "metadata": {
  "kernelspec": {
   "display_name": "base",
   "language": "python",
   "name": "python3"
  },
  "language_info": {
   "codemirror_mode": {
    "name": "ipython",
    "version": 3
   },
   "file_extension": ".py",
   "mimetype": "text/x-python",
   "name": "python",
   "nbconvert_exporter": "python",
   "pygments_lexer": "ipython3",
   "version": "3.7.6"
  },
  "orig_nbformat": 4,
  "vscode": {
   "interpreter": {
    "hash": "688e27ea2201f24f036ee87480d7d8d79d04e5ade5319763c122c3e5a8095f9a"
   }
  }
 },
 "nbformat": 4,
 "nbformat_minor": 2
}
