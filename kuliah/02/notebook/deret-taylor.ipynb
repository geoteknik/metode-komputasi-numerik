{
 "cells": [
  {
   "cell_type": "code",
   "execution_count": 2,
   "metadata": {},
   "outputs": [],
   "source": [
    "import matplotlib.pyplot as plt\n",
    "import numpy as np\n",
    "import math\n"
   ]
  },
  {
   "attachments": {},
   "cell_type": "markdown",
   "metadata": {},
   "source": [
    "$$ f(x) = x^3+2x^2-x + 10 $$"
   ]
  },
  {
   "cell_type": "code",
   "execution_count": 23,
   "metadata": {},
   "outputs": [
    {
     "name": "stdout",
     "output_type": "stream",
     "text": [
      "16\n"
     ]
    },
    {
     "data": {
      "image/png": "[encoded data removed]",
      "text/plain": [
       "<Figure size 432x288 with 1 Axes>"
      ]
     },
     "metadata": {
      "needs_background": "light"
     },
     "output_type": "display_data"
    }
   ],
   "source": [
    "x = np.linspace(0, 10, 101)\n",
    "y = -0.2*x**2 + 2*x\n",
    "\n",
    "fig, ax = plt.subplots()\n",
    "ax.plot(x, y)\n",
    "\n",
    "dx = 2\n",
    "# Orde ke - nol\n",
    "x0 = 2\n",
    "y0 =  2*x0**2 - x0 + 10\n",
    "print(y0)\n",
    "\n",
    "g0 = [y0 for i in x]\n",
    "# ax.plot(x, g0)\n",
    "\n",
    "# orde ke - 1\n",
    "# y1 = (4*x0 - 1)\n",
    "\n",
    "g1 = y0 + y1 * (x - x0)\n",
    "# ax.plot(x, g1)\n",
    "\n",
    "# orde-2\n",
    "y2 = 4\n",
    "g2 = y0 + y1 * (x - x0) + y2 * (x - x0)**2/2\n",
    "# ax.plot(x, g2)\n",
    "# print(g0)\n",
    "\n"
   ]
  },
  {
   "cell_type": "code",
   "execution_count": 24,
   "metadata": {},
   "outputs": [
    {
     "name": "stdout",
     "output_type": "stream",
     "text": [
      "1.8\n"
     ]
    }
   ],
   "source": [
    "y1 = -0.2*1**2 + 2*1\n",
    "\n",
    "print(y1)"
   ]
  },
  {
   "cell_type": "code",
   "execution_count": 25,
   "metadata": {},
   "outputs": [
    {
     "name": "stdout",
     "output_type": "stream",
     "text": [
      "1.6\n"
     ]
    }
   ],
   "source": [
    "y1 = -0.4*1+2\n",
    "y2 = -0.4\n",
    "print(y1)\n",
    "\n"
   ]
  },
  {
   "attachments": {},
   "cell_type": "markdown",
   "metadata": {},
   "source": [
    "# Deret Taylor\n",
    "## Pengenalan\n",
    "Deret Taylor adalah suatu cara untuk mengekspresikan fungsi matematika sebagai jumlah deret tak berhingga dari suku-suku yang ditentukan berdasarkan turunan fungsi tersebut di suatu titik. Misalkan kita ingin mengestimasi fungsi eksponensial $f(x) = e^x$ di sekitar titik $x=x_0$. Kita perlu menentukan turunan ke-n dari fungsi tersebut dan mengevaluasinya pada titik $x_0$. Deret Taylor sangat berguna dalam matematika dan banyak digunakan dalam bidang sains dan rekayasa. Deret Taylor pertama kali diperkenalkan oleh matematikawan Inggris, Brook Taylor, pada abad ke-18.\n",
    "\n",
    "Deret Taylor terdiri dari dua jenis, yakni Deret Taylor dan Deret McLaurin. Deret Taylor adalah deret yang digunakan untuk mengekspresikan fungsi pada titik tertentu yang tidak harus nol. Sedangkan Deret McLaurin adalah kasus khusus dari Deret Taylor, di mana titik yang digunakan adalah nol. Dalam artikel ini, kita akan membahas Deret Taylor secara umum.\n",
    "\n",
    "## Bentuk Umum\n",
    "Bentuk umum dari Deret Taylor adalah sebagai berikut:\n",
    "\n",
    "$$f\\left(x+\\varDelta x\\right)=f\\left(x\\right)+\\dfrac{\\varDelta x}{1!}f'\\left(x\\right)+\\dfrac{\\varDelta x^{2}}{2!}f''\\left(x\\right)+\\cdots+\\dfrac{\\varDelta x^{n}}{n!}f^{\\left(n\\right)}\\left(x\\right)+\\cdots \\tag{1a}$$\n",
    "\n",
    "atau \n",
    "\n",
    "$$ f(x+\\Delta x) = \\sum^{\\infty}_{n=0} {f^{(n)}(x)\\over n!} (\\Delta x)^n \\tag{1b}$$  \n",
    " \n",
    "di mana $f^{(n)}(x)$ adalah turunan ke-$n$ dari fungsi $f(x)$ yang dievaluasi pada titik $x$. Dalam kata lain, persamaan di atas dapat digunakan untuk mengekspresikan nilai dari fungsi $f(x)$ di sekitar titik $x$ sebagai jumlah tak berhingga dari suku-suku deret, dengan setiap suku didasarkan pada nilai turunan fungsi tersebut di titik $x$.\n",
    "\n"
   ]
  },
  {
   "attachments": {},
   "cell_type": "markdown",
   "metadata": {},
   "source": [
    "## Contoh 1\n",
    "Mari kita lihat contoh penggunaan Deret Taylor. Misalnya kita ingin mengestimasi kecepatan suatu sungai. Seandainya kecepatan sebuah sungai memenuhi persamaan: \n",
    "\n",
    "$$ f(x) = -0.2 x^2+2x \\tag{2} $$ \n",
    "\n",
    "Lalu kita mengukur kecepatan di titik $x = 1$. Dari Persamaan 2, didapatkan f(1) = 1.8 m/s. Seandainya data yang kita punya hanya kecepatan di titik $ x = 1 $ dan Persamaan 2, dan kita ingin mengestimasi kecepatan pada x = 2, kita bisa menggunakan deret Taylor untuk mengestimasinya.\n",
    "\n",
    "---\n",
    "\n",
    "Mungkin kita berpikir kalau kita bisa menggunakan persamaan di Contoh 1 untuk menghitung nilai eksak-nya kenapa harus menggunakan deret Taylor? Sayangnya pada banyak kondisi kita tidak tahu persis persamaan kecepatan melintang sepanjang lebar selokan, kita hanya tahu nilai kecepatannya dan turunan (misalnya) pertama atau keduanya, sehingga kita butuh deret Taylor. \n",
    "\n",
    "Contoh lainnya misalnya kita ingin mengetahui perubahan posisi pada sebuah benda bergerak tanpa mengetahui persamaan geraknya. Kita hanya bisa mengukur posisi $x_0$, kecepatan (turunan pertama posisi terhadap waktu), dan percepatan (turunan kedua) saat $ t = 1 $. Kita ingin mengestimasi posisi benda bergerak tersebut saat $ t = 2 $, maka kita butuh deret Taylor, karena kita tidak mempunyai persamaan geraknya. \n"
   ]
  },
  {
   "cell_type": "code",
   "execution_count": 29,
   "metadata": {
    "tags": [
     "remove-cell"
    ]
   },
   "outputs": [
    {
     "name": "stdout",
     "output_type": "stream",
     "text": [
      "3.2\n",
      "3.2\n"
     ]
    }
   ],
   "source": [
    "x0 = 1 # titik pengamatan\n",
    "Dx = 1\n",
    "fx0 = -0.2*x0**2 + 2 * x0 # f(x0)\n",
    "f1x0 = -0.4*x0 + 2 # f'(x0)\n",
    "f2x0 = -0.4 #f''(x0)\n",
    "\n",
    "fx1 = fx0 + f1x0*Dx + f2x0*Dx**2/2\n",
    "fe = -0.2*(x0+Dx)**2 + 2 * (x0+Dx) #eksak\n",
    "print(fx1)\n",
    "print(fe)"
   ]
  },
  {
   "attachments": {},
   "cell_type": "markdown",
   "metadata": {},
   "source": [
    "\n",
    "Dengan $ x = 1, \\Delta x = 1, f(1) = 1.8, f'(1) = 1.6, f\"(1) = -0.4, f^{(3)} = 0 $, karena setelah turunan ke-3, nilai turunannya adalah nol, maka kita hentikan penurunannya. Dari Persamaan (1) kita dapatkan:\n",
    "\n",
    "$$ f(1 + 1) = f(2) = f(1) + f'(1) \\Delta x + {f''(1) \\Delta x^2 \\over 2 !} = 3.2$$\n",
    "\n",
    "Dari hasil estimasi kecepatan pada titik $ x = 2 $, hasil dari deret Taylor sama dengan hasil nilai eksak, yaitu 3.2 m/s.\n"
   ]
  },
  {
   "attachments": {},
   "cell_type": "markdown",
   "metadata": {},
   "source": [
    "## Orde Deret Taylor\n",
    "\n",
    "Jika kita hanya menggunakan suku pertama pada Persamaan 1, maka deret Taylor yang kita gunakan adalah deret Taylor orde 0, dan Persamaan 1 menjadi:\n",
    "\n",
    "$$ f(x + \\Delta x) = f(x) + R_0 \\tag{3}$$\n",
    "\n",
    "dengan:\n",
    "$$ R_0 = O(\\Delta x) = \\dfrac{\\varDelta x}{1!}f'\\left(x\\right)+\\dfrac{\\varDelta x^{2}}{2!}f''\\left(x\\right)+\\cdots+\\dfrac{\\varDelta x^{n}}{n!}f^{\\left(n\\right)}\\left(x\\right)+\\cdots \\tag{4}$$\n",
    "\n",
    "$ R_0 = O(\\Delta x) $ adalah galat pemotongan (*truncating error*) yang berorde 1. Jika kita melanjutkan deret Taylor hingga suku ke-2, maka orde deret taylor tersebut adalah 1 dengan persamaan:\n",
    "\n",
    "$$ f(x + \\Delta x) = f(x) + \\dfrac{\\varDelta x}{1!}f'\\left(x\\right) + R_1 \\tag{4}$$\n",
    "\n",
    "dengan:\n",
    "\n",
    "$$ R_1 = O(\\Delta x^2) = \\dfrac{\\varDelta x^{2}}{2!}f''\\left(x\\right)+\\cdots+\\dfrac{\\varDelta x^{n}}{n!}f^{\\left(n\\right)}\\left(x\\right)+\\cdots \\tag{5}$$\n",
    "\n",
    "\n",
    "$ R_1 = O(\\Delta x^2) $ adalah galat pemotongan yang berorde 2. Dan seterusnya.\n",
    "\n",
    "Mungkin kita berpikiran kalau bisa kita\n"
   ]
  },
  {
   "attachments": {},
   "cell_type": "markdown",
   "metadata": {},
   "source": [
    "## Contoh 2\n",
    "\n",
    "Seperti pada Contoh 1, estimasilah kecepatan pada titik yang sama menggunakan deret Taylor orde ke-0, ke-1, dan ke-2. Serta hitunglah kesalahan pada masing-masing kasus!\n"
   ]
  },
  {
   "cell_type": "code",
   "execution_count": 30,
   "metadata": {
    "tags": [
     "remove-cell"
    ]
   },
   "outputs": [
    {
     "name": "stdout",
     "output_type": "stream",
     "text": [
      "Orde ke - 0, f(x1) =  1.8 , dengan galat =  43.75\n",
      "Orde ke - 1, f(x1) =  3.4000000000000004 , dengan galat =  6.250000000000005\n",
      "Orde ke - 2, f(x1) =  3.2 , dengan galat =  0.0\n"
     ]
    }
   ],
   "source": [
    "fx1_0 = fx0\n",
    "fx1_1 = fx0 + f1x0*Dx\n",
    "fx1_2 = fx0 + f1x0*Dx + f2x0*Dx**2/2\n",
    "\n",
    "e_0 = abs(fe - fx1_0)*100/fe\n",
    "e_1 = abs(fe - fx1_1)*100/fe\n",
    "e_2 = abs(fe - fx1_2)*100/fe\n",
    "\n",
    "print (\"Orde ke - 0, f(x1) = \", fx1_0, \", dengan galat = \", e_0)\n",
    "print (\"Orde ke - 1, f(x1) = \", fx1_1, \", dengan galat = \", e_1)\n",
    "print (\"Orde ke - 2, f(x1) = \", fx1_2, \", dengan galat = \", e_2)"
   ]
  },
  {
   "attachments": {},
   "cell_type": "markdown",
   "metadata": {},
   "source": [
    "### Jawab:\n",
    "\n",
    "Dengan data yang diperoleh dari jawaban contoh 1, kita dapatkan:\n",
    "\n",
    "**Orde ke-0**\n",
    " $$ f(1 + 1) = f(2) = f(1) = 1.8$$\n",
    "\n",
    " dengan kesalahan absolut sejati (*true relative error*) $ \\epsilon_t = 43.75 \\% $.\n",
    "\n",
    " **Orde ke-1**\n",
    "\n",
    " $$ f(1 + 1) = f(2) = f(1) + f'(1) \\Delta x = 3.4$$\n",
    "\n",
    "\n",
    " dengan kesalahan absolut sejati (*true relative error*) $ \\epsilon_t = 6.25 \\% $. \n",
    "\n",
    " **Orde ke-2**\n",
    "\n",
    " $$ f(1 + 1) = f(2) = f(1) + f'(1) \\Delta x + {f''(1) \\Delta x^2 \\over 2 !} = 3.2$$\n",
    "\n",
    " dengan kesalahan absolut sejati (*true relative error*) $ \\epsilon_t = 0.0 \\% $. \n",
    "\n",
    " ---\n",
    " \n",
    " "
   ]
  },
  {
   "attachments": {},
   "cell_type": "markdown",
   "metadata": {},
   "source": [
    "Pada kebanyakan kasus *engineering*, kita hanya menggunakan beberapa suku pertama pada deret Taylor, kita jarang menggunakan deret Taylor hingga orde yang sangat tinggi."
   ]
  },
  {
   "attachments": {},
   "cell_type": "markdown",
   "metadata": {},
   "source": [
    "## Galat Pemotongan\n",
    "\n",
    "<!-- Dari uraian sebelumnya, galat pemotongan didefinisikan sebagai galat yang timbul karena pemotongan deret Taylor. -->\n",
    "\n",
    "Jika fungsi pada contoh 1 kita plot-kan pada sebuah grafik, serta deret Taylor orde ke-0, 1, dan 2 dari fungsi tersebut kita gunakan untuk mengestimasi nilai $f(x)$ pada $ 0 \\le x \\le 10 $ dan kita plotkan pada grafik yang sama, maka akan membentuk kurva seperti pada Gambar di bawah ini:"
   ]
  },
  {
   "cell_type": "code",
   "execution_count": 35,
   "metadata": {},
   "outputs": [],
   "source": [
    "# Kode sengaja di perlihatkan untuk pembelajaran\n",
    "\n",
    "import matplotlib.pyplot as plt # mengimport modul untuk ploting\n",
    "import numpy as np # mengimport modul untuk numerik\n",
    "import math # mengimport modul matematika\n"
   ]
  },
  {
   "cell_type": "code",
   "execution_count": 36,
   "metadata": {},
   "outputs": [
    {
     "data": {
      "text/plain": [
       "[<matplotlib.lines.Line2D at 0x1ea15fba508>]"
      ]
     },
     "execution_count": 36,
     "metadata": {},
     "output_type": "execute_result"
    },
    {
     "data": {
      "image/png": "[encoded data removed]",
      "text/plain": [
       "<Figure size 432x288 with 1 Axes>"
      ]
     },
     "metadata": {
      "needs_background": "light"
     },
     "output_type": "display_data"
    }
   ],
   "source": [
    "x = np.linspace(0, 10, 101)\n",
    "y = -0.2*x**2 + 2*x\n",
    "\n",
    "fig, ax = plt.subplots()\n",
    "ax.plot(x, y)\n",
    "\n",
    "dx = 2\n",
    "# Orde ke - nol\n",
    "x0 = 2\n",
    "fx0 =  -0.2*x0**2 + 2* x0  #f'x0)\n",
    "\n",
    "# list atau array nilai estimasi y dengan deret Taylor orde ke-0\n",
    "y_0 = [fx0 for i in x]\n",
    "ax.plot(x, y_0)\n",
    "\n",
    "# orde ke - 1\n",
    "f1x0 = -0.4*x0 + 2 #f'(x0)\n",
    "\n",
    "# list atau array nilai estimasi y dengan deret Taylor orde ke-1\n",
    "y_1 = y_0 + f1x0 * (x - x0)\n",
    "ax.plot(x, y_1)\n",
    "\n",
    "# orde-2\n",
    "f2x0 = -0.4\n",
    "y_2 = y_1 + f2x0 * (x - x0)**2/2\n",
    "ax.plot(x, y_2)\n",
    "# print(g0)\n"
   ]
  },
  {
   "attachments": {},
   "cell_type": "markdown",
   "metadata": {},
   "source": [
    "Kurva oranye yang berupa garis lurus adalah kurva untuk deret Taylor orde ke-0, kurva hijau yang berupa garis linear adalah kurva untuk deret Taylor orde ke-1, sedangkan kurva merah yang berhimpit dengan kurva nilai eksak adalah kurva deret Taylor orde ke-2. Dari sini terlihat bahwa kurva deret Taylor orde ke-2 mempunyai galat sama dengan nol, sehingga hasil deret Taylor untuk persamaan tersebut adalah eksak. Secara umum deret Taylor mampu menghasilkan nilai eksak pada persamaan polinomial pangkat ke-n jika menggunakan orde ke-n."
   ]
  },
  {
   "attachments": {},
   "cell_type": "markdown",
   "metadata": {},
   "source": [
    "Pada Contoh 1 dan 2 kita mengestimasi persamaan dengan $\\Delta x = 1$, seandainya kita kita memperkecil $\\Delta x$ apa yang akan terjadi?"
   ]
  },
  {
   "cell_type": "code",
   "execution_count": 51,
   "metadata": {
    "tags": [
     "remove-cell"
    ]
   },
   "outputs": [
    {
     "data": {
      "text/plain": [
       "[<matplotlib.lines.Line2D at 0x1ea15fe73c8>]"
      ]
     },
     "execution_count": 51,
     "metadata": {},
     "output_type": "execute_result"
    },
    {
     "data": {
      "image/png": "[encoded data removed]",
      "text/plain": [
       "<Figure size 432x288 with 1 Axes>"
      ]
     },
     "metadata": {
      "needs_background": "light"
     },
     "output_type": "display_data"
    }
   ],
   "source": [
    "dx = [Dx/2**i for i in range(0,10)] # nilai x kita perkecil menjadi separuh pada tiap entry list --> dx = [1, 0.5, 0.25, 0.125, 0.0625, 0.03125, 0.015625, 0.0078125, 0.00390625, 0.001953125]\n",
    "dx = np.array(dx) # merubah python list menjadi numpy array untuk keperluan numerik\n",
    "x0 = 1\n",
    "x1 = x0+dx  # x1 = x0 + dx = [1.5, 1.25, 1.125, 1.0625, 1.03125, 1.015625, 1.0078125, 1.00390625, 1.001953125]\n",
    "\n",
    "# y eksak\n",
    "y_e = -0.2*x1**2 + 2*x1 \n",
    "\n",
    "# orde ke-0\n",
    "fx0 =  -0.2*x0**2 + 2* x0  #f(x0)\n",
    "y_0 = [fx0 for i in dx]\n",
    "y_0 = np.array(y_0)\n",
    "e_0 = abs(y_e-y_0)*100/y_e \n",
    "\n",
    "\n",
    "# orde ke-1\n",
    "f1x0 = -0.4*x0 + 2 #f'(x0)\n",
    "# list atau array nilai estimasi y dengan deret Taylor orde ke-1\n",
    "y_1 = y_0 + f1x0 * dx \n",
    "y_1 = np.array(y_1)\n",
    "e_1 = abs(y_e-y_1)*100/y_e \n",
    "\n",
    "\n",
    "fig, ax = plt.subplots()\n",
    "ax.plot(dx, e_0)\n",
    "ax.plot(dx, e_1)\n",
    "# print(e_1)"
   ]
  },
  {
   "cell_type": "code",
   "execution_count": 52,
   "metadata": {
    "tags": [
     "remove-cell"
    ]
   },
   "outputs": [],
   "source": [
    "import pandas as pd"
   ]
  },
  {
   "cell_type": "code",
   "execution_count": 58,
   "metadata": {
    "tags": [
     "remove-input"
    ]
   },
   "outputs": [
    {
     "data": {
      "text/html": [
       "<div>\n",
       "<style scoped>\n",
       "    .dataframe tbody tr th:only-of-type {\n",
       "        vertical-align: middle;\n",
       "    }\n",
       "\n",
       "    .dataframe tbody tr th {\n",
       "        vertical-align: top;\n",
       "    }\n",
       "\n",
       "    .dataframe thead th {\n",
       "        text-align: right;\n",
       "    }\n",
       "</style>\n",
       "<table border=\"1\" class=\"dataframe\">\n",
       "  <thead>\n",
       "    <tr style=\"text-align: right;\">\n",
       "      <th></th>\n",
       "      <th>dx</th>\n",
       "      <th>galat #0</th>\n",
       "      <th>galat #1</th>\n",
       "    </tr>\n",
       "  </thead>\n",
       "  <tbody>\n",
       "    <tr>\n",
       "      <th>0</th>\n",
       "      <td>1.000000</td>\n",
       "      <td>43.750000</td>\n",
       "      <td>6.250000</td>\n",
       "    </tr>\n",
       "    <tr>\n",
       "      <th>1</th>\n",
       "      <td>0.500000</td>\n",
       "      <td>29.411765</td>\n",
       "      <td>1.960784</td>\n",
       "    </tr>\n",
       "    <tr>\n",
       "      <th>2</th>\n",
       "      <td>0.250000</td>\n",
       "      <td>17.714286</td>\n",
       "      <td>0.571429</td>\n",
       "    </tr>\n",
       "    <tr>\n",
       "      <th>3</th>\n",
       "      <td>0.125000</td>\n",
       "      <td>9.859155</td>\n",
       "      <td>0.156495</td>\n",
       "    </tr>\n",
       "    <tr>\n",
       "      <th>4</th>\n",
       "      <td>0.062500</td>\n",
       "      <td>5.224188</td>\n",
       "      <td>0.041135</td>\n",
       "    </tr>\n",
       "    <tr>\n",
       "      <th>5</th>\n",
       "      <td>0.031250</td>\n",
       "      <td>2.692430</td>\n",
       "      <td>0.010559</td>\n",
       "    </tr>\n",
       "    <tr>\n",
       "      <th>6</th>\n",
       "      <td>0.015625</td>\n",
       "      <td>1.367224</td>\n",
       "      <td>0.002676</td>\n",
       "    </tr>\n",
       "    <tr>\n",
       "      <th>7</th>\n",
       "      <td>0.007812</td>\n",
       "      <td>0.688986</td>\n",
       "      <td>0.000673</td>\n",
       "    </tr>\n",
       "    <tr>\n",
       "      <th>8</th>\n",
       "      <td>0.003906</td>\n",
       "      <td>0.345852</td>\n",
       "      <td>0.000169</td>\n",
       "    </tr>\n",
       "    <tr>\n",
       "      <th>9</th>\n",
       "      <td>0.001953</td>\n",
       "      <td>0.173268</td>\n",
       "      <td>0.000042</td>\n",
       "    </tr>\n",
       "  </tbody>\n",
       "</table>\n",
       "</div>"
      ],
      "text/plain": [
       "         dx   galat #0  galat #1\n",
       "0  1.000000  43.750000  6.250000\n",
       "1  0.500000  29.411765  1.960784\n",
       "2  0.250000  17.714286  0.571429\n",
       "3  0.125000   9.859155  0.156495\n",
       "4  0.062500   5.224188  0.041135\n",
       "5  0.031250   2.692430  0.010559\n",
       "6  0.015625   1.367224  0.002676\n",
       "7  0.007812   0.688986  0.000673\n",
       "8  0.003906   0.345852  0.000169\n",
       "9  0.001953   0.173268  0.000042"
      ]
     },
     "execution_count": 58,
     "metadata": {},
     "output_type": "execute_result"
    }
   ],
   "source": [
    "df = pd.DataFrame({'dx':dx, 'galat #0': e_0, 'galat #1': e_1})\n",
    "df"
   ]
  },
  {
   "attachments": {},
   "cell_type": "markdown",
   "metadata": {},
   "source": [
    "Pada tabel di atas, galat #0 dan #1 menunjukkan galat pada deret taylor orde ke-0 dan ke-1 secara berturut-turut. jia kita perhatikan, saat dx di perkecil menajadi setengah, maka galat pada deret Taylor orde ke-0 akan mengecil menjadi $\\pm $ separuhnya, sedangkan  pada deret Taylor orde ke-1 akan mengecil menjadi $\\pm$ 0.25. Hal ini sesuai dengan Persamaan 4 dan 5, karena yang paling berpengaruh pada galat adalah pangkat pada $\\Delta x$ suku pertamanya. Sedangkan ketidak tepatan pengecilan galat menjadi separuh dan seperempat adalah kontribusi variabal pada suku pertama selain $\\Delta x$ dan suku-suku tidak hingga setelahnya.  "
   ]
  },
  {
   "attachments": {},
   "cell_type": "markdown",
   "metadata": {},
   "source": [
    "## Kesimpulan\n",
    "\n",
    "Dari contoh dan penjelasan di atas kita bisa mengetahui bahwa deret Taylor adalah suatu cara untuk mengekspresikan fungsi matematika sebagai jumlah deret tak berhingga dari suku-suku yang ditentukan berdasarkan turunan fungsi tersebut pada suatu titik. Hasil estimasi dengan deret Taylor mengandung galat jika kita memotong deretnya."
   ]
  }
 ],
 "metadata": {
  "kernelspec": {
   "display_name": "base",
   "language": "python",
   "name": "python3"
  },
  "language_info": {
   "codemirror_mode": {
    "name": "ipython",
    "version": 3
   },
   "file_extension": ".py",
   "mimetype": "text/x-python",
   "name": "python",
   "nbconvert_exporter": "python",
   "pygments_lexer": "ipython3",
   "version": "3.7.6"
  },
  "orig_nbformat": 4,
  "vscode": {
   "interpreter": {
    "hash": "688e27ea2201f24f036ee87480d7d8d79d04e5ade5319763c122c3e5a8095f9a"
   }
  }
 },
 "nbformat": 4,
 "nbformat_minor": 2
}
