{
 "cells": [
  {
   "attachments": {},
   "cell_type": "markdown",
   "metadata": {},
   "source": [
    "# Galat Numerik\n",
    "Metode numerik adalah cara pendekatan untuk memecahkan masalah matematika. Metode ini digunakan dalam berbagai bidang, termasuk sains, teknik, ekonomi, dan sebagainya. Meskipun metode numerik sangat berguna dan efektif, namun metode ini tidak sepenuhnya akurat karena mempunyai galat error, yang disebut galat numerik (*numerical error*). Sehingga galat numerik merupakan salah satu faktor penting dalam metode numerik. \n",
    "\n",
    "Galat numerik (*numerical error*) adalah ketidaktepatan atau penyimpangan dari nilai sebenarnya ketika melakukan komputasi matematika menggunakan metode numerik atau algoritma. Meskipun metode numerik merupakan alat yang powerful untuk menyelesaikan masalah matematika, tetapi metode ini melibatkan aproksimasi dan estimasi, dan tidak akurat secara mutlak. Oleh karena itu, galat numerik dapat terjadi karena beberapa alasan, termasuk:\n",
    "1. Galat pembulatan: Ini terjadi karena presisi terbatas dari komputer yang digunakan untuk perhitungan. Komputer hanya dapat menyimpan jumlah digit yang terbatas, sehingga beberapa digit mungkin dipotong atau dibulatkan, menyebabkan kesalahan kecil dalam hasil perhitungan.\n",
    "\n",
    "2. Galat pemangkasan: Ini terjadi ketika algoritma atau metode memangkas deret atau fungsi tak hingga menjadi jumlah terbatas. Pemangkasan ini menyebabkan galat, yang mungkin signifikan jika jumlah term yang digunakan terlalu kecil. Untuk keterangan lebih lanjut tentang galat ini, akan kita jelaskan pada deret taylor\n",
    "\n",
    "3. Galat diskritisasi: Ini terjadi ketika masalah kontinu diaproksimasi menjadi diskrit. Hal ini sering terjadi dalam simulasi numerik sistem fisik, di mana variabel kontinu sistem diskritisasi menjadi elemen terbatas atau titik grid.\n",
    "\n",
    "4. Galat konvergensi: Ini terjadi ketika terdapat perbedaan antara solusi yang mencapai konvegen sepenuhnya dengan solusi yang baru mencapai konvergensi sebagian. Hal ini dapat terjadi karena user menghentikan iterasi sebelum solusi mencapai konvergensi, atau user memilih nilai toleransi galat yang terlalu besar.\n",
    "\n",
    "## Jenis galat\n",
    "Ada dua jenis galat pada metode numerik, yaitu galat absolut dan galat relatif. Galat absolut merupakan perbedaan antara nilai hasil perhitungan yang diperoleh melalui metode numerik dengan nilai sebenarnya dari hasil tersebut. Sedangkan galat relatif adalah perbandingan antara galat absolut dan nilai sebenarnya dari hasil tersebut.\n",
    "\n",
    "## Cara mengurangi galat\n",
    "Untuk mengurangi galat pada metode numerik, ada beberapa teknik yang dapat dilakukan, di antaranya adalah:\n",
    "\n",
    "1. Memperbaiki akurasi alat pengukuran dan pemrosesan data yang digunakan.\n",
    "\n",
    "2. Memperbaiki pengolahan data dengan teknik yang lebih akurat.\n",
    "\n",
    "3. Menggunakan metode numerik yang lebih akurat dan sesuai dengan jenis masalah yang akan dipecahkan.\n",
    "\n",
    "4. Melakukan validasi hasil perhitungan dengan cara membandingkan hasil perhitungan dengan nilai sebenarnya yang diketahui.\n",
    "\n",
    "5. Meminimalkan faktor manusia dengan cara menggunakan alat bantu atau program komputer yang tepat.\n",
    "\n",
    "Penting untuk diingat bahwa galat pada metode numerik tidak bisa dihilangkan sepenuhnya, namun dapat diperkecil sebanyak mungkin dengan menggunakan teknik-teknik yang tepat. Oleh karena itu, sangat penting bagi para ilmuwan dan ahli matematika untuk memahami konsep galat pada metode numerik dan menggunakan teknik yang tepat untuk mengurangi galat tersebut agar hasil perhitungan yang diperoleh dapat digunakan secara efektif dan akurat dalam berbagai aplikasi.\n",
    "\n",
    "Galat numerik dapat diminimalkan dengan menggunakan metode numerik yang cocok untuk masalah yang dipecahkan, menggunakan aritmetika presisi tinggi, meningkatkan jumlah term yang digunakan dalam aproksimasi, atau dengan menggunakan teknik analisis galat untuk menentukan sumber-sumber galat dan memperbaikinya. Penting untuk menyadari galat numerik dan mengambil langkah-langkah untuk meminimalkannya, karena galat ini dapat menyebabkan ketidakakuratan yang signifikan pada hasil akhir."
   ]
  },
  {
   "attachments": {},
   "cell_type": "markdown",
   "metadata": {},
   "source": [
    "Metode numerik adalah metode yang digunakan untuk menyelesaikan permasalahan matematika secara numerik atau dengan menggunakan angka. Metode ini digunakan dalam berbagai bidang, termasuk ilmu pengetahuan, teknik, ekonomi, dan sebagainya. Meskipun metode numerik sangat berguna dan efektif, namun metode ini tidak sepenuhnya akurat dan seringkali terjadi galat.\n",
    "\n",
    "Galat pada metode numerik dapat terjadi karena beberapa faktor. Salah satu faktor yang paling umum adalah batas-batas pengukuran. Setiap perangkat atau instrumen yang digunakan untuk pengukuran memiliki batas-batas tertentu, dan ketika hasil pengukuran melebihi batas-batas ini, maka akan terjadi galat pada hasil akhir.\n",
    "\n",
    "Faktor lain yang dapat menyebabkan galat pada metode numerik adalah ketidakakuratan metode pengukuran. Meskipun metode numerik telah dirancang untuk memberikan hasil yang akurat, metode ini masih tergantung pada penggunaan algoritma yang tepat dan penyesuaian parameter yang benar. Jika salah satu dari elemen ini terganggu, maka hasil pengukuran akan mengalami galat.\n",
    "\n",
    "Selain itu, galat pada metode numerik juga dapat terjadi karena ketidakpastian dalam data awal. Data awal seringkali diperoleh dari pengukuran yang dilakukan di lapangan atau dalam percobaan, dan meskipun dilakukan dengan sebaik mungkin, masih ada faktor lingkungan dan manusia yang dapat mempengaruhi akurasi pengukuran. Hal ini dapat menyebabkan data awal tidak sepenuhnya akurat, dan ketidakakuratan ini akan terus berakumulasi selama metode numerik dijalankan, sehingga menghasilkan galat yang semakin besar.\n",
    "\n",
    "Meskipun galat pada metode numerik dapat terjadi, ada berbagai teknik dan strategi yang dapat digunakan untuk mengurangi galat tersebut. Salah satu teknik yang paling umum adalah metode iterasi, di mana hasil pengukuran dievaluasi secara berulang-ulang, dengan mengurangi galat pada setiap iterasi. Selain itu, ada juga teknik statistik yang digunakan untuk mengukur ketidakpastian pada data awal dan untuk mengurangi galat yang mungkin terjadi pada hasil pengukuran.\n",
    "\n",
    "Dalam kesimpulannya, galat pada metode numerik dapat terjadi karena berbagai faktor, termasuk batas pengukuran, ketidakakuratan metode pengukuran, dan ketidakpastian dalam data awal. Namun, dengan menggunakan teknik dan strategi yang tepat, galat pada metode numerik dapat dikurangi dan dieliminasi sepenuhnya, sehingga menghasilkan hasil pengukuran yang akurat dan berguna."
   ]
  }
 ],
 "metadata": {
  "kernelspec": {
   "display_name": "Python 3",
   "language": "python",
   "name": "python3"
  },
  "language_info": {
   "name": "python",
   "version": "3.8.1"
  },
  "orig_nbformat": 4,
  "vscode": {
   "interpreter": {
    "hash": "de2ddda11e428782be3328bf12c80914d00ffcfaad574cc079caf1b9d918da5e"
   }
  }
 },
 "nbformat": 4,
 "nbformat_minor": 2
}
