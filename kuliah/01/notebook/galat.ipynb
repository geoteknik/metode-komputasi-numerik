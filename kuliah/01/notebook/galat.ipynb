{
 "cells": [
  {
   "attachments": {},
   "cell_type": "markdown",
   "metadata": {},
   "source": [
    "# Galat Numerik\n",
    "Metode numerik adalah cara pendekatan untuk memecahkan masalah matematika. Metode ini digunakan dalam berbagai bidang, termasuk sains, teknik, ekonomi, dan sebagainya. Meskipun metode numerik sangat berguna dan efektif, namun metode ini tidak sepenuhnya akurat karena mempunyai galat error, yang disebut galat numerik (*numerical error*). Sehingga galat numerik merupakan salah satu faktor penting dalam metode numerik. \n",
    "\n",
    "Galat numerik (*numerical error*) adalah ketidaktepatan atau penyimpangan dari nilai sebenarnya ketika melakukan komputasi matematika menggunakan metode numerik atau algoritma. Meskipun metode numerik merupakan alat yang powerful untuk menyelesaikan masalah matematika, tetapi metode ini melibatkan aproksimasi dan estimasi, dan tidak akurat secara mutlak. Oleh karena itu, galat numerik dapat terjadi karena beberapa alasan, termasuk:\n",
    "1. Galat pembulatan: Ini terjadi karena presisi terbatas dari komputer yang digunakan untuk perhitungan. Komputer hanya dapat menyimpan jumlah digit yang terbatas, sehingga beberapa digit mungkin dipotong atau dibulatkan, menyebabkan kesalahan kecil dalam hasil perhitungan.\n",
    "\n",
    "2. Galat pemangkasan: Ini terjadi ketika algoritma atau metode memangkas deret atau fungsi tak hingga menjadi jumlah terbatas. Pemangkasan ini menyebabkan galat, yang mungkin signifikan jika jumlah term yang digunakan terlalu kecil. Untuk keterangan lebih lanjut tentang galat ini, akan kita jelaskan pada deret taylor\n",
    "\n",
    "3. Galat diskritisasi: Ini terjadi ketika masalah kontinu diaproksimasi menjadi diskrit. Hal ini sering terjadi dalam simulasi numerik sistem fisik, di mana variabel kontinu sistem diskritisasi menjadi elemen terbatas atau titik grid.\n",
    "\n",
    "4. Galat konvergensi: Ini terjadi ketika terdapat perbedaan antara solusi yang mencapai konvegen sepenuhnya dengan solusi yang baru mencapai konvergensi sebagian. Hal ini dapat terjadi karena user menghentikan iterasi sebelum solusi mencapai konvergensi, atau user memilih nilai toleransi galat yang terlalu besar.\n",
    "\n",
    "## Pengukuran Galat\n",
    "Karena definisi galat adalah perbedaan nilai estimasi dengan nilai sesungguhnya, maka galat bisa kita tulis dalam rumus:\n",
    " "
   ]
  },
  {
   "attachments": {},
   "cell_type": "markdown",
   "metadata": {},
   "source": [
    "\n",
    "$$ e_t = a - \\hat{a} \\label{eq:true-error} $$\n"
   ]
  },
  {
   "attachments": {},
   "cell_type": "markdown",
   "metadata": {},
   "source": [
    "Karena yang kita ukur adalah perbedaan antara nilai sesungguhnya (*a*) dan nilai estimasi ($ \\hat{a} $), maka galat atau kesalahan ini kita sebut sebagi *true error* ($a_t$). "
   ]
  },
  {
   "attachments": {},
   "cell_type": "markdown",
   "metadata": {},
   "source": [
    "\n",
    "### Contoh 1\n",
    "Hitunglah luas lingkaran dengan jari-jari $ r = 2 $ dengan metode numerik dan analitik, serta hitung galat sejati (*true error*).\n",
    "\n",
    "### Jawab\n"
   ]
  },
  {
   "attachments": {},
   "cell_type": "markdown",
   "metadata": {},
   "source": [
    "*Cara 1: Analitik*\n",
    "\n",
    "Untuk mengitung luas lingkaran dengan cara analitik ($A$), kita bisa menggunakan rumus analitis yang menghasilkan:"
   ]
  },
  {
   "cell_type": "code",
   "execution_count": 3,
   "metadata": {
    "tags": [
     "remove-cell"
    ]
   },
   "outputs": [
    {
     "name": "stdout",
     "output_type": "stream",
     "text": [
      "12.566370614359172\n"
     ]
    }
   ],
   "source": [
    "import math\n",
    "r = 2\n",
    "\n",
    "Aa = math.pi * r *r\n",
    "print(Aa)"
   ]
  },
  {
   "attachments": {},
   "cell_type": "markdown",
   "metadata": {},
   "source": [
    "$ A = \\pi r^2 = 12.566  $"
   ]
  },
  {
   "attachments": {},
   "cell_type": "markdown",
   "metadata": {},
   "source": [
    "*Cara 2: Numerik*\n",
    "\n",
    "Seandainya kita membagi lingkaran menjadi segita-segitiga sama kaki berjumlah $n = 10$ dan bersudut antara kaki adalah $\\theta = {\\pi / 5}$ (lihat gambar). Maka kita bisa menghitung luasan segitiga ($A_3$) sebagai:"
   ]
  },
  {
   "cell_type": "code",
   "execution_count": 34,
   "metadata": {
    "tags": [
     "remove-cell"
    ]
   },
   "outputs": [
    {
     "name": "stdout",
     "output_type": "stream",
     "text": [
      "1.175570504584946 ,  11.75570504584946\n"
     ]
    }
   ],
   "source": [
    "n = 10\n",
    "theta = 2* math.pi/n\n",
    "A3 = math.sin(theta/2)*math.cos(theta/2)*r*r\n",
    "An = n * A3\n",
    "print(A3, \", \", An)"
   ]
  },
  {
   "attachments": {},
   "cell_type": "markdown",
   "metadata": {},
   "source": [
    "$ \\hat{A} = r^2 \\sin(\\theta/2)*\\cos(\\theta/2) = 11.7557$"
   ]
  },
  {
   "cell_type": "code",
   "execution_count": 35,
   "metadata": {
    "tags": [
     "remove-cell"
    ]
   },
   "outputs": [],
   "source": [
    "import matplotlib.pyplot as plt"
   ]
  },
  {
   "cell_type": "code",
   "execution_count": 36,
   "metadata": {
    "tags": [
     "remove-input"
    ]
   },
   "outputs": [
    {
     "data": {
      "image/png": "[encoded data removed]",
      "text/plain": [
       "<Figure size 432x288 with 1 Axes>"
      ]
     },
     "metadata": {
      "needs_background": "light"
     },
     "output_type": "display_data"
    }
   ],
   "source": [
    "# Menggambar lingkaran dari poligon sisi n\n",
    "n = 10    # jumlah sudut lingkaran, ingat jumlah titik dalam poligon adalah n + 1\n",
    "                                            # Tambahkan jumlah sudut n agar lingkarannya semakin halus\n",
    "th = [i*2*math.pi/n for i in range(n+1)]    # membuat list sudut masing-masing titik pada poligon dari sumbu x positif, \n",
    "                                            # ingat mengukur sudut positif adalah berlawanan arah jarum jam\n",
    "x8 = [math.cos(alpha) for alpha in th]      # list proyeksi sumbu x dari titik-titik poligon\n",
    "y8 = [math.sin(alpha) for alpha in th]      # list proyeksi sumbu y dari titik-titik poligon\n",
    "\n",
    "fig, ax = plt.subplots()\n",
    "ax.plot(x8,y8, 'b')\n",
    "ax.axis(\"scaled\")\n",
    "ax.axis([-1,1,-1,1]) \n",
    "\n",
    "for i in range(len(x8)):\n",
    "    x = [0, x8[i]]\n",
    "    y = [0, y8[i]]\n",
    "    ax.plot(x,y, 'b')"
   ]
  },
  {
   "cell_type": "code",
   "execution_count": 37,
   "metadata": {},
   "outputs": [
    {
     "name": "stdout",
     "output_type": "stream",
     "text": [
      "0.8106655685097124\n"
     ]
    }
   ],
   "source": [
    "et = Aa - An \n",
    "print (et)"
   ]
  },
  {
   "attachments": {},
   "cell_type": "markdown",
   "metadata": {},
   "source": [
    "*Galat sejati*\n",
    "Galat sejati didapatkan dengan memasukkan hasil perhitungan luas analitik dan numerik ke Persamaan \\ref{eq:true-error}, sehingga didapat $e_t = 0.8107$.\n",
    "\n",
    "Jika kita merasa galat tersebut masih cukup besar, kita bisa menambah jumlah pias, sehingga kita peroleh: "
   ]
  },
  {
   "cell_type": "code",
   "execution_count": 39,
   "metadata": {
    "tags": [
     "remove-input"
    ]
   },
   "outputs": [],
   "source": [
    "import numpy as np\n",
    "import matplotlib.pyplot as plt \n",
    "import math"
   ]
  },
  {
   "cell_type": "code",
   "execution_count": 56,
   "metadata": {
    "tags": [
     "remove-input"
    ]
   },
   "outputs": [
    {
     "data": {
      "text/plain": [
       "[<matplotlib.lines.Line2D at 0x21e506fb508>]"
      ]
     },
     "execution_count": 56,
     "metadata": {},
     "output_type": "execute_result"
    },
    {
     "data": {
      "image/png": "[encoded data removed]",
      "text/plain": [
       "<Figure size 432x288 with 1 Axes>"
      ]
     },
     "metadata": {
      "needs_background": "light"
     },
     "output_type": "display_data"
    }
   ],
   "source": [
    "n = np.linspace(5, 50, 10)\n",
    "theta = 2* math.pi/n \n",
    "An = [n[i] * math.sin(theta[i]/2)*math.cos(theta[i]/2)*r*r for i in range(len(n))] # Luas numerik\n",
    "At = [math.pi*r**2 for i in range(len(n))]\n",
    "fig, ax = plt.subplots()\n",
    "ax.plot(n, An)\n",
    "ax.plot(n, At)\n"
   ]
  },
  {
   "attachments": {},
   "cell_type": "markdown",
   "metadata": {},
   "source": [
    "\n",
    "\n",
    "\n",
    "Dibanyak tempat, kita ingin mengukur kesalahan terhadap nilai sebenarnya, yaitu:\n",
    "\n",
    "$$ \\epsilon_t = {a - \\hat{a} \\over a} $$ \n",
    "\n",
    "atau\n",
    "\n",
    "$$ \\epsilon_t = {a - \\hat{a} \\over a} 100\\% $$  \n",
    "\n",
    "kesalahan ini disebut *true relative error* ($\\epsilon_t$). Pada banyak kasus nilai eksak tidak bisa diperoleh, sehingga perlu cara lain untuk mengukur galat. Biasanya pada kasus ini (nilai eksak tidak bisa diperoleh), nilai pendekatan diperoleh dengan cara iterasi hingga solusi mencapai konvergen. Kesalahan/galat pada tiap-tiap iterasi disebut approximation relative  error ($\\epsilon_a$) dan bisa dihitung menggunakan:\n",
    "\n",
    "$$ \\epsilon_a = {\\hat{a}^{i} - \\hat{a}^{i-1} \\over \\hat{a}^i} 100\\% $$  \n",
    "\n",
    "dengan *i* adalah iterasi saat ini dan *i-1* dalah iterasi sebelumnya. Kesalahan-kesalahan di atas bisa bernilai negatif jika nilai eksak lebih kecil dari nilai pendekatan atau nilai iterasi saat ini lebih kecil dari nilai iterasi sebelumnya. Untuk menghindari nilai negatif biasanya digunakan nilai absolut, yaitu $\\lvert \\epsilon_t \\rvert$ atau $\\lvert{\\epsilon_a}\\rvert$. Jika solusi diperoleh dengan cara iterasi, biasa iterasi akan dihentikan jika nilai absolutnya lebih kecil dari nilai toleransi ($\\epsilon_s$).\n",
    "\n",
    "$$ \\lvert \\epsilon_a \\rvert \\le \\epsilon_s $$\n",
    "\n",
    "## Cara mengurangi galat\n",
    "Galat numerik dapat diminimalkan dengan menggunakan metode numerik yang cocok untuk masalah yang dipecahkan, menggunakan aritmetika presisi tinggi, meningkatkan jumlah term yang digunakan dalam aproksimasi, atau dengan menggunakan teknik analisis galat untuk menentukan sumber-sumber galat dan memperbaikinya. Penting untuk menyadari galat numerik dan mengambil langkah-langkah untuk meminimalkannya, karena galat ini dapat menyebabkan ketidakakuratan yang signifikan pada hasil akhir.\n",
    "\n",
    "Penting untuk diingat bahwa galat pada metode numerik tidak bisa dihilangkan sepenuhnya, namun dapat diperkecil sebanyak mungkin dengan menggunakan teknik-teknik yang tepat. Oleh karena itu, sangat penting bagi para ilmuwan dan ahli matematika untuk memahami konsep galat pada metode numerik dan menggunakan teknik yang tepat untuk mengurangi galat tersebut agar hasil perhitungan yang diperoleh dapat digunakan secara efektif dan akurat dalam berbagai aplikasi."
   ]
  }
 ],
 "metadata": {
  "kernelspec": {
   "display_name": "base",
   "language": "python",
   "name": "python3"
  },
  "language_info": {
   "codemirror_mode": {
    "name": "ipython",
    "version": 3
   },
   "file_extension": ".py",
   "mimetype": "text/x-python",
   "name": "python",
   "nbconvert_exporter": "python",
   "pygments_lexer": "ipython3",
   "version": "3.7.6"
  },
  "orig_nbformat": 4,
  "vscode": {
   "interpreter": {
    "hash": "688e27ea2201f24f036ee87480d7d8d79d04e5ade5319763c122c3e5a8095f9a"
   }
  }
 },
 "nbformat": 4,
 "nbformat_minor": 2
}
